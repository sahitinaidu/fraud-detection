{
 "cells": [
  {
   "cell_type": "code",
   "execution_count": 1,
   "metadata": {},
   "outputs": [],
   "source": [
    "import pandas as pd\n",
    "import numpy as np\n",
    "from sklearn import *\n",
    "import matplotlib.pyplot as plt\n",
    "plt.rc(\"font\",size=14)\n",
    "import seaborn as sns\n",
    "sns.set(style=\"white\")\n",
    "sns.set(style=\"whitegrid\",color_codes=True)"
   ]
  },
  {
   "cell_type": "code",
   "execution_count": 2,
   "metadata": {},
   "outputs": [
    {
     "name": "stdout",
     "output_type": "stream",
     "text": [
      "(623, 10)\n",
      "['customerEmail', 'transactionId', 'orderId', 'paymentMethodId', 'paymentMethodRegistrationFailure', 'paymentMethodType', 'paymentMethodProvider', 'transactionAmount', 'transactionFailed', 'orderState']\n"
     ]
    }
   ],
   "source": [
    "data=pd.read_csv(\"transactions.csv\",index_col=0)\n",
    "data.dropna()\n",
    "data.drop_duplicates(['customerEmail'])\n",
    "print(data.shape)\n",
    "print(list(data.columns))"
   ]
  },
  {
   "cell_type": "code",
   "execution_count": 3,
   "metadata": {},
   "outputs": [
    {
     "data": {
      "text/html": [
       "<div>\n",
       "<style scoped>\n",
       "    .dataframe tbody tr th:only-of-type {\n",
       "        vertical-align: middle;\n",
       "    }\n",
       "\n",
       "    .dataframe tbody tr th {\n",
       "        vertical-align: top;\n",
       "    }\n",
       "\n",
       "    .dataframe thead th {\n",
       "        text-align: right;\n",
       "    }\n",
       "</style>\n",
       "<table border=\"1\" class=\"dataframe\">\n",
       "  <thead>\n",
       "    <tr style=\"text-align: right;\">\n",
       "      <th></th>\n",
       "      <th>customerEmail</th>\n",
       "      <th>transactionId</th>\n",
       "      <th>orderId</th>\n",
       "      <th>paymentMethodId</th>\n",
       "      <th>paymentMethodRegistrationFailure</th>\n",
       "      <th>paymentMethodType</th>\n",
       "      <th>paymentMethodProvider</th>\n",
       "      <th>transactionAmount</th>\n",
       "      <th>transactionFailed</th>\n",
       "      <th>orderState</th>\n",
       "    </tr>\n",
       "  </thead>\n",
       "  <tbody>\n",
       "    <tr>\n",
       "      <td>0</td>\n",
       "      <td>josephhoward@yahoo.com</td>\n",
       "      <td>a9lcj51r</td>\n",
       "      <td>vjbdvd</td>\n",
       "      <td>wt07xm68b</td>\n",
       "      <td>1</td>\n",
       "      <td>card</td>\n",
       "      <td>JCB 16 digit</td>\n",
       "      <td>18</td>\n",
       "      <td>0</td>\n",
       "      <td>pending</td>\n",
       "    </tr>\n",
       "    <tr>\n",
       "      <td>1</td>\n",
       "      <td>josephhoward@yahoo.com</td>\n",
       "      <td>y4wcv03i</td>\n",
       "      <td>yp6x27</td>\n",
       "      <td>wt07xm68b</td>\n",
       "      <td>1</td>\n",
       "      <td>card</td>\n",
       "      <td>JCB 16 digit</td>\n",
       "      <td>26</td>\n",
       "      <td>0</td>\n",
       "      <td>fulfilled</td>\n",
       "    </tr>\n",
       "    <tr>\n",
       "      <td>2</td>\n",
       "      <td>evansjeffery@yahoo.com</td>\n",
       "      <td>5mi94sfw</td>\n",
       "      <td>nlghpa</td>\n",
       "      <td>41ug157xz</td>\n",
       "      <td>0</td>\n",
       "      <td>bitcoin</td>\n",
       "      <td>American Express</td>\n",
       "      <td>45</td>\n",
       "      <td>0</td>\n",
       "      <td>fulfilled</td>\n",
       "    </tr>\n",
       "    <tr>\n",
       "      <td>3</td>\n",
       "      <td>evansjeffery@yahoo.com</td>\n",
       "      <td>br8ba1nu</td>\n",
       "      <td>uw0eeb</td>\n",
       "      <td>41ug157xz</td>\n",
       "      <td>0</td>\n",
       "      <td>bitcoin</td>\n",
       "      <td>American Express</td>\n",
       "      <td>23</td>\n",
       "      <td>0</td>\n",
       "      <td>fulfilled</td>\n",
       "    </tr>\n",
       "    <tr>\n",
       "      <td>4</td>\n",
       "      <td>evansjeffery@yahoo.com</td>\n",
       "      <td>a33145ss</td>\n",
       "      <td>bn44oh</td>\n",
       "      <td>y3xp697jx</td>\n",
       "      <td>1</td>\n",
       "      <td>bitcoin</td>\n",
       "      <td>VISA 16 digit</td>\n",
       "      <td>43</td>\n",
       "      <td>1</td>\n",
       "      <td>fulfilled</td>\n",
       "    </tr>\n",
       "  </tbody>\n",
       "</table>\n",
       "</div>"
      ],
      "text/plain": [
       "            customerEmail transactionId orderId paymentMethodId  \\\n",
       "0  josephhoward@yahoo.com      a9lcj51r  vjbdvd       wt07xm68b   \n",
       "1  josephhoward@yahoo.com      y4wcv03i  yp6x27       wt07xm68b   \n",
       "2  evansjeffery@yahoo.com      5mi94sfw  nlghpa       41ug157xz   \n",
       "3  evansjeffery@yahoo.com      br8ba1nu  uw0eeb       41ug157xz   \n",
       "4  evansjeffery@yahoo.com      a33145ss  bn44oh       y3xp697jx   \n",
       "\n",
       "   paymentMethodRegistrationFailure paymentMethodType paymentMethodProvider  \\\n",
       "0                                 1              card          JCB 16 digit   \n",
       "1                                 1              card          JCB 16 digit   \n",
       "2                                 0           bitcoin      American Express   \n",
       "3                                 0           bitcoin      American Express   \n",
       "4                                 1           bitcoin         VISA 16 digit   \n",
       "\n",
       "   transactionAmount  transactionFailed orderState  \n",
       "0                 18                  0    pending  \n",
       "1                 26                  0  fulfilled  \n",
       "2                 45                  0  fulfilled  \n",
       "3                 23                  0  fulfilled  \n",
       "4                 43                  1  fulfilled  "
      ]
     },
     "execution_count": 3,
     "metadata": {},
     "output_type": "execute_result"
    }
   ],
   "source": [
    "data.head()"
   ]
  },
  {
   "cell_type": "code",
   "execution_count": 4,
   "metadata": {},
   "outputs": [
    {
     "data": {
      "text/plain": [
       "(623, 10)"
      ]
     },
     "execution_count": 4,
     "metadata": {},
     "output_type": "execute_result"
    }
   ],
   "source": [
    "data.drop_duplicates(['transactionId','orderId','paymentMethodRegistrationFailure'])\n",
    "data.shape"
   ]
  },
  {
   "cell_type": "code",
   "execution_count": 5,
   "metadata": {},
   "outputs": [
    {
     "data": {
      "text/plain": [
       "array(['JCB 16 digit', 'American Express', 'VISA 16 digit', 'Discover',\n",
       "       'Voyager', 'VISA 13 digit', 'Maestro', 'Mastercard',\n",
       "       'Diners Club / Carte Blanche', 'JCB 15 digit'], dtype=object)"
      ]
     },
     "execution_count": 5,
     "metadata": {},
     "output_type": "execute_result"
    }
   ],
   "source": [
    "data['paymentMethodProvider'].unique()"
   ]
  },
  {
   "cell_type": "code",
   "execution_count": 6,
   "metadata": {},
   "outputs": [],
   "source": [
    "data['paymentMethodProvider']=np.where(data['paymentMethodProvider']=='JCB 16 digit','JCB',data['paymentMethodProvider'])\n",
    "data['paymentMethodProvider']=np.where(data['paymentMethodProvider']=='VISA 13 digit','VISA',data['paymentMethodProvider'])\n",
    "data['paymentMethodProvider']=np.where(data['paymentMethodProvider']=='VISA 16 digit','VISA',data['paymentMethodProvider'])\n",
    "data['paymentMethodProvider']=np.where(data['paymentMethodProvider']=='JCB 15 digit','JCB',data['paymentMethodProvider'])\n"
   ]
  },
  {
   "cell_type": "code",
   "execution_count": 7,
   "metadata": {},
   "outputs": [
    {
     "data": {
      "text/plain": [
       "array(['JCB', 'American Express', 'VISA', 'Discover', 'Voyager',\n",
       "       'Maestro', 'Mastercard', 'Diners Club / Carte Blanche'],\n",
       "      dtype=object)"
      ]
     },
     "execution_count": 7,
     "metadata": {},
     "output_type": "execute_result"
    }
   ],
   "source": [
    "data['paymentMethodProvider'].unique()"
   ]
  },
  {
   "cell_type": "code",
   "execution_count": 8,
   "metadata": {},
   "outputs": [
    {
     "name": "stdout",
     "output_type": "stream",
     "text": [
      "['customerEmail', 'transactionId', 'orderId', 'paymentMethodId', 'paymentMethodRegistrationFailure', 'paymentMethodType', 'paymentMethodProvider', 'transactionAmount', 'y', 'orderState']\n"
     ]
    }
   ],
   "source": [
    "data.rename(columns={\"transactionFailed\":\"y\"},inplace=True)\n",
    "print(list(data.columns))"
   ]
  },
  {
   "cell_type": "code",
   "execution_count": 9,
   "metadata": {},
   "outputs": [
    {
     "data": {
      "text/plain": [
       "0    455\n",
       "1    168\n",
       "Name: y, dtype: int64"
      ]
     },
     "execution_count": 9,
     "metadata": {},
     "output_type": "execute_result"
    }
   ],
   "source": [
    "data['y'].value_counts()"
   ]
  },
  {
   "cell_type": "code",
   "execution_count": 10,
   "metadata": {},
   "outputs": [
    {
     "data": {
      "image/png": "[encoded data removed]",
      "text/plain": [
       "<Figure size 432x288 with 1 Axes>"
      ]
     },
     "metadata": {
      "needs_background": "light"
     },
     "output_type": "display_data"
    },
    {
     "data": {
      "text/plain": [
       "<Figure size 432x288 with 0 Axes>"
      ]
     },
     "metadata": {},
     "output_type": "display_data"
    }
   ],
   "source": [
    "sns.countplot(x='y',data=data,palette='hls')\n",
    "plt.show()\n",
    "plt.savefig('count_plot')\n"
   ]
  },
  {
   "cell_type": "code",
   "execution_count": 11,
   "metadata": {},
   "outputs": [
    {
     "data": {
      "text/html": [
       "<div>\n",
       "<style scoped>\n",
       "    .dataframe tbody tr th:only-of-type {\n",
       "        vertical-align: middle;\n",
       "    }\n",
       "\n",
       "    .dataframe tbody tr th {\n",
       "        vertical-align: top;\n",
       "    }\n",
       "\n",
       "    .dataframe thead th {\n",
       "        text-align: right;\n",
       "    }\n",
       "</style>\n",
       "<table border=\"1\" class=\"dataframe\">\n",
       "  <thead>\n",
       "    <tr style=\"text-align: right;\">\n",
       "      <th></th>\n",
       "      <th>paymentMethodRegistrationFailure</th>\n",
       "      <th>transactionAmount</th>\n",
       "    </tr>\n",
       "    <tr>\n",
       "      <th>y</th>\n",
       "      <th></th>\n",
       "      <th></th>\n",
       "    </tr>\n",
       "  </thead>\n",
       "  <tbody>\n",
       "    <tr>\n",
       "      <td>0</td>\n",
       "      <td>0.131868</td>\n",
       "      <td>34.569231</td>\n",
       "    </tr>\n",
       "    <tr>\n",
       "      <td>1</td>\n",
       "      <td>0.130952</td>\n",
       "      <td>34.678571</td>\n",
       "    </tr>\n",
       "  </tbody>\n",
       "</table>\n",
       "</div>"
      ],
      "text/plain": [
       "   paymentMethodRegistrationFailure  transactionAmount\n",
       "y                                                     \n",
       "0                          0.131868          34.569231\n",
       "1                          0.130952          34.678571"
      ]
     },
     "execution_count": 11,
     "metadata": {},
     "output_type": "execute_result"
    }
   ],
   "source": [
    "data.groupby('y').mean()"
   ]
  },
  {
   "cell_type": "code",
   "execution_count": 12,
   "metadata": {},
   "outputs": [
    {
     "data": {
      "text/html": [
       "<div>\n",
       "<style scoped>\n",
       "    .dataframe tbody tr th:only-of-type {\n",
       "        vertical-align: middle;\n",
       "    }\n",
       "\n",
       "    .dataframe tbody tr th {\n",
       "        vertical-align: top;\n",
       "    }\n",
       "\n",
       "    .dataframe thead th {\n",
       "        text-align: right;\n",
       "    }\n",
       "</style>\n",
       "<table border=\"1\" class=\"dataframe\">\n",
       "  <thead>\n",
       "    <tr style=\"text-align: right;\">\n",
       "      <th></th>\n",
       "      <th>paymentMethodRegistrationFailure</th>\n",
       "      <th>transactionAmount</th>\n",
       "      <th>y</th>\n",
       "    </tr>\n",
       "    <tr>\n",
       "      <th>paymentMethodType</th>\n",
       "      <th></th>\n",
       "      <th></th>\n",
       "      <th></th>\n",
       "    </tr>\n",
       "  </thead>\n",
       "  <tbody>\n",
       "    <tr>\n",
       "      <td>apple pay</td>\n",
       "      <td>0.061224</td>\n",
       "      <td>36.979592</td>\n",
       "      <td>0.265306</td>\n",
       "    </tr>\n",
       "    <tr>\n",
       "      <td>bitcoin</td>\n",
       "      <td>0.404255</td>\n",
       "      <td>34.957447</td>\n",
       "      <td>0.234043</td>\n",
       "    </tr>\n",
       "    <tr>\n",
       "      <td>card</td>\n",
       "      <td>0.121086</td>\n",
       "      <td>34.929019</td>\n",
       "      <td>0.279749</td>\n",
       "    </tr>\n",
       "    <tr>\n",
       "      <td>paypal</td>\n",
       "      <td>0.041667</td>\n",
       "      <td>28.520833</td>\n",
       "      <td>0.208333</td>\n",
       "    </tr>\n",
       "  </tbody>\n",
       "</table>\n",
       "</div>"
      ],
      "text/plain": [
       "                   paymentMethodRegistrationFailure  transactionAmount  \\\n",
       "paymentMethodType                                                        \n",
       "apple pay                                  0.061224          36.979592   \n",
       "bitcoin                                    0.404255          34.957447   \n",
       "card                                       0.121086          34.929019   \n",
       "paypal                                     0.041667          28.520833   \n",
       "\n",
       "                          y  \n",
       "paymentMethodType            \n",
       "apple pay          0.265306  \n",
       "bitcoin            0.234043  \n",
       "card               0.279749  \n",
       "paypal             0.208333  "
      ]
     },
     "execution_count": 12,
     "metadata": {},
     "output_type": "execute_result"
    }
   ],
   "source": [
    "data.groupby('paymentMethodType').mean()"
   ]
  },
  {
   "cell_type": "code",
   "execution_count": 13,
   "metadata": {},
   "outputs": [
    {
     "data": {
      "text/html": [
       "<div>\n",
       "<style scoped>\n",
       "    .dataframe tbody tr th:only-of-type {\n",
       "        vertical-align: middle;\n",
       "    }\n",
       "\n",
       "    .dataframe tbody tr th {\n",
       "        vertical-align: top;\n",
       "    }\n",
       "\n",
       "    .dataframe thead th {\n",
       "        text-align: right;\n",
       "    }\n",
       "</style>\n",
       "<table border=\"1\" class=\"dataframe\">\n",
       "  <thead>\n",
       "    <tr style=\"text-align: right;\">\n",
       "      <th></th>\n",
       "      <th>paymentMethodRegistrationFailure</th>\n",
       "      <th>transactionAmount</th>\n",
       "      <th>y</th>\n",
       "    </tr>\n",
       "    <tr>\n",
       "      <th>paymentMethodProvider</th>\n",
       "      <th></th>\n",
       "      <th></th>\n",
       "      <th></th>\n",
       "    </tr>\n",
       "  </thead>\n",
       "  <tbody>\n",
       "    <tr>\n",
       "      <td>American Express</td>\n",
       "      <td>0.200000</td>\n",
       "      <td>31.622222</td>\n",
       "      <td>0.266667</td>\n",
       "    </tr>\n",
       "    <tr>\n",
       "      <td>Diners Club / Carte Blanche</td>\n",
       "      <td>0.189655</td>\n",
       "      <td>32.103448</td>\n",
       "      <td>0.362069</td>\n",
       "    </tr>\n",
       "    <tr>\n",
       "      <td>Discover</td>\n",
       "      <td>0.195122</td>\n",
       "      <td>27.512195</td>\n",
       "      <td>0.414634</td>\n",
       "    </tr>\n",
       "    <tr>\n",
       "      <td>JCB</td>\n",
       "      <td>0.073620</td>\n",
       "      <td>36.644172</td>\n",
       "      <td>0.245399</td>\n",
       "    </tr>\n",
       "    <tr>\n",
       "      <td>Maestro</td>\n",
       "      <td>0.144928</td>\n",
       "      <td>31.681159</td>\n",
       "      <td>0.260870</td>\n",
       "    </tr>\n",
       "    <tr>\n",
       "      <td>Mastercard</td>\n",
       "      <td>0.000000</td>\n",
       "      <td>35.906250</td>\n",
       "      <td>0.218750</td>\n",
       "    </tr>\n",
       "    <tr>\n",
       "      <td>VISA</td>\n",
       "      <td>0.207792</td>\n",
       "      <td>38.298701</td>\n",
       "      <td>0.253247</td>\n",
       "    </tr>\n",
       "    <tr>\n",
       "      <td>Voyager</td>\n",
       "      <td>0.000000</td>\n",
       "      <td>31.737705</td>\n",
       "      <td>0.229508</td>\n",
       "    </tr>\n",
       "  </tbody>\n",
       "</table>\n",
       "</div>"
      ],
      "text/plain": [
       "                             paymentMethodRegistrationFailure  \\\n",
       "paymentMethodProvider                                           \n",
       "American Express                                     0.200000   \n",
       "Diners Club / Carte Blanche                          0.189655   \n",
       "Discover                                             0.195122   \n",
       "JCB                                                  0.073620   \n",
       "Maestro                                              0.144928   \n",
       "Mastercard                                           0.000000   \n",
       "VISA                                                 0.207792   \n",
       "Voyager                                              0.000000   \n",
       "\n",
       "                             transactionAmount         y  \n",
       "paymentMethodProvider                                     \n",
       "American Express                     31.622222  0.266667  \n",
       "Diners Club / Carte Blanche          32.103448  0.362069  \n",
       "Discover                             27.512195  0.414634  \n",
       "JCB                                  36.644172  0.245399  \n",
       "Maestro                              31.681159  0.260870  \n",
       "Mastercard                           35.906250  0.218750  \n",
       "VISA                                 38.298701  0.253247  \n",
       "Voyager                              31.737705  0.229508  "
      ]
     },
     "execution_count": 13,
     "metadata": {},
     "output_type": "execute_result"
    }
   ],
   "source": [
    "data.groupby('paymentMethodProvider').mean()"
   ]
  },
  {
   "cell_type": "code",
   "execution_count": 14,
   "metadata": {},
   "outputs": [
    {
     "data": {
      "text/html": [
       "<div>\n",
       "<style scoped>\n",
       "    .dataframe tbody tr th:only-of-type {\n",
       "        vertical-align: middle;\n",
       "    }\n",
       "\n",
       "    .dataframe tbody tr th {\n",
       "        vertical-align: top;\n",
       "    }\n",
       "\n",
       "    .dataframe thead th {\n",
       "        text-align: right;\n",
       "    }\n",
       "</style>\n",
       "<table border=\"1\" class=\"dataframe\">\n",
       "  <thead>\n",
       "    <tr style=\"text-align: right;\">\n",
       "      <th></th>\n",
       "      <th>paymentMethodRegistrationFailure</th>\n",
       "      <th>transactionAmount</th>\n",
       "      <th>y</th>\n",
       "    </tr>\n",
       "    <tr>\n",
       "      <th>orderState</th>\n",
       "      <th></th>\n",
       "      <th></th>\n",
       "      <th></th>\n",
       "    </tr>\n",
       "  </thead>\n",
       "  <tbody>\n",
       "    <tr>\n",
       "      <td>failed</td>\n",
       "      <td>0.111111</td>\n",
       "      <td>36.333333</td>\n",
       "      <td>0.222222</td>\n",
       "    </tr>\n",
       "    <tr>\n",
       "      <td>fulfilled</td>\n",
       "      <td>0.135659</td>\n",
       "      <td>34.467054</td>\n",
       "      <td>0.263566</td>\n",
       "    </tr>\n",
       "    <tr>\n",
       "      <td>pending</td>\n",
       "      <td>0.113636</td>\n",
       "      <td>33.659091</td>\n",
       "      <td>0.409091</td>\n",
       "    </tr>\n",
       "  </tbody>\n",
       "</table>\n",
       "</div>"
      ],
      "text/plain": [
       "            paymentMethodRegistrationFailure  transactionAmount         y\n",
       "orderState                                                               \n",
       "failed                              0.111111          36.333333  0.222222\n",
       "fulfilled                           0.135659          34.467054  0.263566\n",
       "pending                             0.113636          33.659091  0.409091"
      ]
     },
     "execution_count": 14,
     "metadata": {},
     "output_type": "execute_result"
    }
   ],
   "source": [
    "data.groupby('orderState').mean()"
   ]
  },
  {
   "cell_type": "code",
   "execution_count": 15,
   "metadata": {},
   "outputs": [
    {
     "data": {
      "image/png": "[encoded data removed]",
      "text/plain": [
       "<Figure size 432x288 with 1 Axes>"
      ]
     },
     "metadata": {
      "needs_background": "light"
     },
     "output_type": "display_data"
    }
   ],
   "source": [
    "%matplotlib inline\n",
    "pd.crosstab(data.paymentMethodProvider,data.y).plot(kind='bar')\n",
    "plt.xlabel('Payment Method')\n",
    "plt.ylabel('frequency of failure')\n",
    "plt.savefig('failures from providers')"
   ]
  },
  {
   "cell_type": "code",
   "execution_count": 16,
   "metadata": {},
   "outputs": [
    {
     "data": {
      "image/png": "[encoded data removed]",
      "text/plain": [
       "<Figure size 432x288 with 1 Axes>"
      ]
     },
     "metadata": {
      "needs_background": "light"
     },
     "output_type": "display_data"
    }
   ],
   "source": [
    "table=pd.crosstab(data.paymentMethodType,data.y)\n",
    "table.div(table.sum(1).astype(float),axis=0).plot(kind='bar',stacked=True)\n",
    "plt.xlabel('payemnt Type')\n",
    "plt.ylabel('frequnecy of customers')\n",
    "plt.savefig('Paymenttype with customers')"
   ]
  },
  {
   "cell_type": "code",
   "execution_count": 17,
   "metadata": {},
   "outputs": [
    {
     "data": {
      "image/png": "[encoded data removed]",
      "text/plain": [
       "<Figure size 432x288 with 1 Axes>"
      ]
     },
     "metadata": {
      "needs_background": "light"
     },
     "output_type": "display_data"
    }
   ],
   "source": [
    "pd.crosstab(data.orderState,data.y).plot(kind='bar')\n",
    "plt.xlabel('Order state')\n",
    "plt.ylabel('frequency of people')\n",
    "plt.savefig('orderstate failures')"
   ]
  },
  {
   "cell_type": "code",
   "execution_count": 18,
   "metadata": {},
   "outputs": [
    {
     "data": {
      "image/png": "[encoded data removed]",
      "text/plain": [
       "<Figure size 432x288 with 1 Axes>"
      ]
     },
     "metadata": {
      "needs_background": "light"
     },
     "output_type": "display_data"
    }
   ],
   "source": [
    "data.transactionAmount.hist()\n",
    "plt.title('graph of traction amount')\n",
    "plt.xlabel('amount')\n",
    "plt.ylabel('Frequency')\n",
    "plt.savefig('histogram on amount')"
   ]
  },
  {
   "cell_type": "markdown",
   "metadata": {},
   "source": [
    "## to create dummy variable"
   ]
  },
  {
   "cell_type": "code",
   "execution_count": 19,
   "metadata": {},
   "outputs": [
    {
     "name": "stdout",
     "output_type": "stream",
     "text": [
      "            customerEmail transactionId orderId paymentMethodId  \\\n",
      "0  josephhoward@yahoo.com      a9lcj51r  vjbdvd       wt07xm68b   \n",
      "1  josephhoward@yahoo.com      y4wcv03i  yp6x27       wt07xm68b   \n",
      "2  evansjeffery@yahoo.com      5mi94sfw  nlghpa       41ug157xz   \n",
      "3  evansjeffery@yahoo.com      br8ba1nu  uw0eeb       41ug157xz   \n",
      "4  evansjeffery@yahoo.com      a33145ss  bn44oh       y3xp697jx   \n",
      "\n",
      "   paymentMethodRegistrationFailure paymentMethodType paymentMethodProvider  \\\n",
      "0                                 1              card                   JCB   \n",
      "1                                 1              card                   JCB   \n",
      "2                                 0           bitcoin      American Express   \n",
      "3                                 0           bitcoin      American Express   \n",
      "4                                 1           bitcoin                  VISA   \n",
      "\n",
      "   transactionAmount  y orderState  ...  paymentMethodProvider_Mastercard  \\\n",
      "0                 18  0    pending  ...                                 0   \n",
      "1                 26  0  fulfilled  ...                                 0   \n",
      "2                 45  0  fulfilled  ...                                 0   \n",
      "3                 23  0  fulfilled  ...                                 0   \n",
      "4                 43  1  fulfilled  ...                                 0   \n",
      "\n",
      "   paymentMethodProvider_VISA  paymentMethodProvider_Voyager  \\\n",
      "0                           0                              0   \n",
      "1                           0                              0   \n",
      "2                           0                              0   \n",
      "3                           0                              0   \n",
      "4                           1                              0   \n",
      "\n",
      "   paymentMethodType_apple pay  paymentMethodType_bitcoin  \\\n",
      "0                            0                          0   \n",
      "1                            0                          0   \n",
      "2                            0                          1   \n",
      "3                            0                          1   \n",
      "4                            0                          1   \n",
      "\n",
      "   paymentMethodType_card  paymentMethodType_paypal  orderState_failed  \\\n",
      "0                       1                         0                  0   \n",
      "1                       1                         0                  0   \n",
      "2                       0                         0                  0   \n",
      "3                       0                         0                  0   \n",
      "4                       0                         0                  0   \n",
      "\n",
      "   orderState_fulfilled  orderState_pending  \n",
      "0                     0                   1  \n",
      "1                     1                   0  \n",
      "2                     1                   0  \n",
      "3                     1                   0  \n",
      "4                     1                   0  \n",
      "\n",
      "[5 rows x 25 columns]\n"
     ]
    }
   ],
   "source": [
    "cat_var=['paymentMethodProvider','paymentMethodType','orderState']\n",
    "for var in cat_var:\n",
    "    cat_list='var'+'_'+var\n",
    "    cat_list=pd.get_dummies(data[var],prefix=var)\n",
    "    data1=data.join(cat_list,lsuffix='_left')\n",
    "    data=data1\n",
    "print(data.head())"
   ]
  },
  {
   "cell_type": "code",
   "execution_count": 20,
   "metadata": {},
   "outputs": [
    {
     "name": "stdout",
     "output_type": "stream",
     "text": [
      "['paymentMethodRegistrationFailure', 'y', 'paymentMethodProvider_American Express', 'paymentMethodProvider_Diners Club / Carte Blanche', 'paymentMethodProvider_Discover', 'paymentMethodProvider_JCB', 'paymentMethodProvider_Maestro', 'paymentMethodProvider_Mastercard', 'paymentMethodProvider_VISA', 'paymentMethodProvider_Voyager', 'paymentMethodType_apple pay', 'paymentMethodType_bitcoin', 'paymentMethodType_card', 'paymentMethodType_paypal', 'orderState_failed', 'orderState_fulfilled', 'orderState_pending']\n"
     ]
    }
   ],
   "source": [
    "cat_vars=['paymentMethodProvider','paymentMethodType','orderState','transactionAmount']\n",
    "data_vars=data.columns.values.tolist()\n",
    "to_keep=[i for i in data_vars if i not in cat_vars]\n",
    "to_keep.remove(\"customerEmail\")\n",
    "to_keep.remove(\"transactionId\")\n",
    "to_keep.remove(\"orderId\")\n",
    "to_keep.remove(\"paymentMethodId\")\n",
    "\n",
    "print(to_keep)"
   ]
  },
  {
   "cell_type": "code",
   "execution_count": 21,
   "metadata": {},
   "outputs": [
    {
     "name": "stdout",
     "output_type": "stream",
     "text": [
      "['paymentMethodRegistrationFailure' 'y'\n",
      " 'paymentMethodProvider_American Express'\n",
      " 'paymentMethodProvider_Diners Club / Carte Blanche'\n",
      " 'paymentMethodProvider_Discover' 'paymentMethodProvider_JCB'\n",
      " 'paymentMethodProvider_Maestro' 'paymentMethodProvider_Mastercard'\n",
      " 'paymentMethodProvider_VISA' 'paymentMethodProvider_Voyager'\n",
      " 'paymentMethodType_apple pay' 'paymentMethodType_bitcoin'\n",
      " 'paymentMethodType_card' 'paymentMethodType_paypal' 'orderState_failed'\n",
      " 'orderState_fulfilled' 'orderState_pending']\n"
     ]
    }
   ],
   "source": [
    "dataf=data[to_keep]\n",
    "print(dataf.columns.values)\n"
   ]
  },
  {
   "cell_type": "code",
   "execution_count": 22,
   "metadata": {},
   "outputs": [
    {
     "name": "stdout",
     "output_type": "stream",
     "text": [
      "['paymentMethodRegistrationFailure', 'paymentMethodProvider_American Express', 'paymentMethodProvider_Diners Club / Carte Blanche', 'paymentMethodProvider_Discover', 'paymentMethodProvider_JCB', 'paymentMethodProvider_Maestro', 'paymentMethodProvider_Mastercard', 'paymentMethodProvider_VISA', 'paymentMethodProvider_Voyager', 'paymentMethodType_apple pay', 'paymentMethodType_bitcoin', 'paymentMethodType_card', 'paymentMethodType_paypal', 'orderState_failed', 'orderState_fulfilled', 'orderState_pending']\n"
     ]
    }
   ],
   "source": [
    "dataf_var=dataf.columns.values.tolist()\n",
    "y=['y']\n",
    "X=[i for i in dataf_var if i not in y]\n",
    "print(X)\n"
   ]
  },
  {
   "cell_type": "code",
   "execution_count": 23,
   "metadata": {},
   "outputs": [
    {
     "name": "stdout",
     "output_type": "stream",
     "text": [
      "Requirement already satisfied: imbalanced-learn in c:\\users\\sahiti naidu\\anaconda3\\lib\\site-packages (0.6.2)\n",
      "Requirement already satisfied: joblib>=0.11 in c:\\users\\sahiti naidu\\anaconda3\\lib\\site-packages (from imbalanced-learn) (0.13.2)\n",
      "Requirement already satisfied: scipy>=0.17 in c:\\users\\sahiti naidu\\anaconda3\\lib\\site-packages (from imbalanced-learn) (1.3.1)\n",
      "Requirement already satisfied: numpy>=1.11 in c:\\users\\sahiti naidu\\anaconda3\\lib\\site-packages (from imbalanced-learn) (1.16.5)\n",
      "Requirement already satisfied: scikit-learn>=0.22 in c:\\users\\sahiti naidu\\anaconda3\\lib\\site-packages (from imbalanced-learn) (0.22.2.post1)\n"
     ]
    }
   ],
   "source": [
    "!pip install imbalanced-learn"
   ]
  },
  {
   "cell_type": "code",
   "execution_count": 24,
   "metadata": {},
   "outputs": [
    {
     "name": "stdout",
     "output_type": "stream",
     "text": [
      "length of oversampled data is  616\n",
      "Number of no subscription in oversampled data 308\n",
      "Number of subscription 308\n",
      "Proportion of no subscription data in oversampled data is  0.5\n",
      "Proportion of subscription data in oversampled data is  0.5\n"
     ]
    }
   ],
   "source": [
    "from collections import Counter\n",
    "from sklearn.datasets import make_classification\n",
    "from imblearn.over_sampling import SMOTE\n",
    "from matplotlib import pyplot\n",
    "from numpy import where\n",
    "from sklearn.model_selection import train_test_split\n",
    "X=dataf.loc[:,dataf.columns!='y']\n",
    "y=dataf.loc[:,dataf.columns=='y']\n",
    "os=SMOTE(random_state=0)\n",
    "X_train, X_test, y_train, y_test = train_test_split(X, y, test_size=0.3, random_state=0)\n",
    "columns=X_train.columns\n",
    "os_data_X,os_data_y=os.fit_sample(X_train,y_train)\n",
    "os_data_X=pd.DataFrame(data=os_data_X,columns=columns)\n",
    "os_data_y=pd.DataFrame(data=os_data_y,columns=['y'])\n",
    "\n",
    "\n",
    "print(\"length of oversampled data is \",len(os_data_X))\n",
    "print(\"Number of no subscription in oversampled data\",len(os_data_y[os_data_y['y']==0]))\n",
    "print(\"Number of subscription\",len(os_data_y[os_data_y['y']==1]))\n",
    "print(\"Proportion of no subscription data in oversampled data is \",len(os_data_y[os_data_y['y']==0])/len(os_data_X))\n",
    "print(\"Proportion of subscription data in oversampled data is \",len(os_data_y[os_data_y['y']==1])/len(os_data_X))\n"
   ]
  },
  {
   "cell_type": "markdown",
   "metadata": {},
   "source": [
    "## Applyling Logistic Regression"
   ]
  },
  {
   "cell_type": "code",
   "execution_count": 25,
   "metadata": {},
   "outputs": [
    {
     "name": "stdout",
     "output_type": "stream",
     "text": [
      "[1 1 1 1 1 1 1 1 1 1 1 1 1 1 1 1]\n",
      "[ True  True  True  True  True  True  True  True  True  True  True  True\n",
      "  True  True  True  True]\n"
     ]
    }
   ],
   "source": [
    "from sklearn.linear_model import LogisticRegression\n",
    "from sklearn import datasets\n",
    "from sklearn.feature_selection import RFE\n",
    "lreg=LogisticRegression()\n",
    "rfe=RFE(lreg,20)\n",
    "rfe=rfe.fit(os_data_X,os_data_y.values.ravel())\n",
    "print(rfe.ranking_)\n",
    "print(rfe.support_)\n"
   ]
  },
  {
   "cell_type": "code",
   "execution_count": 26,
   "metadata": {},
   "outputs": [
    {
     "name": "stdout",
     "output_type": "stream",
     "text": [
      "Optimization terminated successfully.\n",
      "         Current function value: 0.572202\n",
      "         Iterations 5\n"
     ]
    },
    {
     "name": "stderr",
     "output_type": "stream",
     "text": [
      "C:\\Users\\sahiti naidu\\Anaconda3\\lib\\site-packages\\statsmodels\\base\\model.py:1286: RuntimeWarning: invalid value encountered in sqrt\n",
      "  bse_ = np.sqrt(np.diag(self.cov_params()))\n",
      "C:\\Users\\sahiti naidu\\Anaconda3\\lib\\site-packages\\scipy\\stats\\_distn_infrastructure.py:901: RuntimeWarning: invalid value encountered in greater\n",
      "  return (a < x) & (x < b)\n",
      "C:\\Users\\sahiti naidu\\Anaconda3\\lib\\site-packages\\scipy\\stats\\_distn_infrastructure.py:901: RuntimeWarning: invalid value encountered in less\n",
      "  return (a < x) & (x < b)\n",
      "C:\\Users\\sahiti naidu\\Anaconda3\\lib\\site-packages\\scipy\\stats\\_distn_infrastructure.py:1892: RuntimeWarning: invalid value encountered in less_equal\n",
      "  cond2 = cond0 & (x <= _a)\n"
     ]
    },
    {
     "name": "stdout",
     "output_type": "stream",
     "text": [
      "                                                 Results: Logit\n",
      "================================================================================================================\n",
      "Model:                               Logit                            Pseudo R-squared:                 0.018   \n",
      "Dependent Variable:                  y                                AIC:                              740.9639\n",
      "Date:                                2020-03-09 22:26                 BIC:                              803.0476\n",
      "No. Observations:                    623                              Log-Likelihood:                   -356.48 \n",
      "Df Model:                            13                               LL-Null:                          -363.16 \n",
      "Df Residuals:                        609                              LLR p-value:                      0.42052 \n",
      "Converged:                           1.0000                           Scale:                            1.0000  \n",
      "No. Iterations:                      5.0000                                                                     \n",
      "----------------------------------------------------------------------------------------------------------------\n",
      "                                                   Coef.    Std.Err.      z    P>|z|      [0.025       0.975]   \n",
      "----------------------------------------------------------------------------------------------------------------\n",
      "paymentMethodRegistrationFailure                  -0.0432       0.2842 -0.1520 0.8792       -0.6002       0.5138\n",
      "paymentMethodProvider_American Express            -0.2398          nan     nan    nan           nan          nan\n",
      "paymentMethodProvider_Diners Club / Carte Blanche  0.1679          nan     nan    nan           nan          nan\n",
      "paymentMethodProvider_Discover                     0.4423          nan     nan    nan           nan          nan\n",
      "paymentMethodProvider_JCB                         -0.3449          nan     nan    nan           nan          nan\n",
      "paymentMethodProvider_Maestro                     -0.2603          nan     nan    nan           nan          nan\n",
      "paymentMethodProvider_Mastercard                  -0.4858          nan     nan    nan           nan          nan\n",
      "paymentMethodProvider_VISA                        -0.2767          nan     nan    nan           nan          nan\n",
      "paymentMethodProvider_Voyager                     -0.4189          nan     nan    nan           nan          nan\n",
      "paymentMethodType_apple pay                       -0.2244 1333962.6939 -0.0000 1.0000 -2614519.0611 2614518.6124\n",
      "paymentMethodType_bitcoin                         -0.5194 1477561.5743 -0.0000 1.0000 -2895967.9899 2895966.9511\n",
      "paymentMethodType_card                            -0.1557 1675826.0208 -0.0000 1.0000 -3284558.8009 3284558.4895\n",
      "paymentMethodType_paypal                          -0.5167 1458704.8977 -0.0000 1.0000 -2859009.5802 2859008.5468\n",
      "orderState_failed                                 -0.7825          nan     nan    nan           nan          nan\n",
      "orderState_fulfilled                              -0.5882          nan     nan    nan           nan          nan\n",
      "orderState_pending                                -0.0454          nan     nan    nan           nan          nan\n",
      "================================================================================================================\n",
      "\n"
     ]
    }
   ],
   "source": [
    "import statsmodels.api as sm\n",
    "logit_model=sm.Logit(y,X)\n",
    "result=logit_model.fit()\n",
    "print(result.summary2())"
   ]
  },
  {
   "cell_type": "code",
   "execution_count": 27,
   "metadata": {},
   "outputs": [
    {
     "name": "stderr",
     "output_type": "stream",
     "text": [
      "C:\\Users\\sahiti naidu\\Anaconda3\\lib\\site-packages\\sklearn\\utils\\validation.py:760: DataConversionWarning: A column-vector y was passed when a 1d array was expected. Please change the shape of y to (n_samples, ), for example using ravel().\n",
      "  y = column_or_1d(y, warn=True)\n"
     ]
    },
    {
     "data": {
      "text/plain": [
       "LogisticRegression(C=1.0, class_weight=None, dual=False, fit_intercept=True,\n",
       "                   intercept_scaling=1, l1_ratio=None, max_iter=100,\n",
       "                   multi_class='auto', n_jobs=None, penalty='l2',\n",
       "                   random_state=None, solver='lbfgs', tol=0.0001, verbose=0,\n",
       "                   warm_start=False)"
      ]
     },
     "execution_count": 27,
     "metadata": {},
     "output_type": "execute_result"
    }
   ],
   "source": [
    "from sklearn.linear_model import LogisticRegression \n",
    "from sklearn import metrics\n",
    "X_train,X_test,y_train,y_test=train_test_split(X,y,test_size=0.3,random_state=0)\n",
    "logreg=LogisticRegression()\n",
    "logreg.fit(X_train,y_train)"
   ]
  },
  {
   "cell_type": "code",
   "execution_count": 28,
   "metadata": {},
   "outputs": [
    {
     "name": "stdout",
     "output_type": "stream",
     "text": [
      "Accuracy of logistic regression classifier on test set: 0.78\n"
     ]
    }
   ],
   "source": [
    "y_pred = logreg.predict(X_test)\n",
    "print('Accuracy of logistic regression classifier on test set: {:.2f}'.format(logreg.score(X_test, y_test)))"
   ]
  },
  {
   "cell_type": "markdown",
   "metadata": {},
   "source": [
    "## Using Confusion matrix"
   ]
  },
  {
   "cell_type": "code",
   "execution_count": 29,
   "metadata": {},
   "outputs": [
    {
     "name": "stdout",
     "output_type": "stream",
     "text": [
      "[[146   1]\n",
      " [ 40   0]]\n"
     ]
    }
   ],
   "source": [
    "from sklearn.metrics import confusion_matrix\n",
    "cf=confusion_matrix(y_test,y_pred)\n",
    "print(cf)\n",
    "plt.show()"
   ]
  },
  {
   "cell_type": "code",
   "execution_count": 30,
   "metadata": {},
   "outputs": [
    {
     "name": "stdout",
     "output_type": "stream",
     "text": [
      "              precision    recall  f1-score   support\n",
      "\n",
      "           0       0.78      0.99      0.88       147\n",
      "           1       0.00      0.00      0.00        40\n",
      "\n",
      "    accuracy                           0.78       187\n",
      "   macro avg       0.39      0.50      0.44       187\n",
      "weighted avg       0.62      0.78      0.69       187\n",
      "\n"
     ]
    }
   ],
   "source": [
    "from sklearn.metrics import classification_report\n",
    "print(classification_report(y_test,y_pred))"
   ]
  },
  {
   "cell_type": "code",
   "execution_count": 31,
   "metadata": {},
   "outputs": [
    {
     "data": {
      "image/png": "[encoded data removed]",
      "text/plain": [
       "<Figure size 432x288 with 1 Axes>"
      ]
     },
     "metadata": {
      "needs_background": "light"
     },
     "output_type": "display_data"
    }
   ],
   "source": [
    "plt.clf()\n",
    "plt.imshow(cf, interpolation='nearest',cmap=plt.cm.Wistia)\n",
    "classNames = ['Negative','Positive']\n",
    "plt.title('confusion matrix for fradulent ')\n",
    "plt.ylabel('True label')\n",
    "plt.xlabel('Predicted label')\n",
    "tick_marks = np.arange(len(classNames))\n",
    "plt.xticks(tick_marks, classNames, rotation=45)\n",
    "plt.yticks(tick_marks, classNames)\n",
    "s = [['TN','FP'],['FN','TP']]\n",
    "for i in range(2):\n",
    "    for j in range(2):\n",
    "        plt.text(j,i, str(s[i][j])+\" = \"+str(cf[i][j]))\n",
    "plt.show()\n"
   ]
  },
  {
   "cell_type": "code",
   "execution_count": null,
   "metadata": {},
   "outputs": [],
   "source": []
  }
 ],
 "metadata": {
  "kernelspec": {
   "display_name": "Python 3",
   "language": "python",
   "name": "python3"
  },
  "language_info": {
   "codemirror_mode": {
    "name": "ipython",
    "version": 3
   },
   "file_extension": ".py",
   "mimetype": "text/x-python",
   "name": "python",
   "nbconvert_exporter": "python",
   "pygments_lexer": "ipython3",
   "version": "3.7.4"
  }
 },
 "nbformat": 4,
 "nbformat_minor": 2
}
