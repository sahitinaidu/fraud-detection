{
 "cells": [
  {
   "cell_type": "code",
   "execution_count": 2,
   "metadata": {},
   "outputs": [],
   "source": [
    "import pandas as pd\n",
    "import numpy as np\n",
    "import matplotlib.pyplot as plt\n",
    "import seaborn as sns\n",
    "from sklearn import *"
   ]
  },
  {
   "cell_type": "code",
   "execution_count": 3,
   "metadata": {},
   "outputs": [
    {
     "data": {
      "text/html": [
       "<div>\n",
       "<style scoped>\n",
       "    .dataframe tbody tr th:only-of-type {\n",
       "        vertical-align: middle;\n",
       "    }\n",
       "\n",
       "    .dataframe tbody tr th {\n",
       "        vertical-align: top;\n",
       "    }\n",
       "\n",
       "    .dataframe thead th {\n",
       "        text-align: right;\n",
       "    }\n",
       "</style>\n",
       "<table border=\"1\" class=\"dataframe\">\n",
       "  <thead>\n",
       "    <tr style=\"text-align: right;\">\n",
       "      <th></th>\n",
       "      <th>customerEmail</th>\n",
       "      <th>customerPhone</th>\n",
       "      <th>customerDevice</th>\n",
       "      <th>customerIPAddress</th>\n",
       "      <th>customerBillingAddress</th>\n",
       "      <th>No_Transactions</th>\n",
       "      <th>No_Orders</th>\n",
       "      <th>No_Payments</th>\n",
       "      <th>Fraud</th>\n",
       "    </tr>\n",
       "  </thead>\n",
       "  <tbody>\n",
       "    <tr>\n",
       "      <td>0</td>\n",
       "      <td>josephhoward@yahoo.com</td>\n",
       "      <td>400-108-5415</td>\n",
       "      <td>yyeiaxpltf82440jnb3v</td>\n",
       "      <td>8.129.104.40</td>\n",
       "      <td>5493 Jones Islands\\nBrownside, CA 51896</td>\n",
       "      <td>2</td>\n",
       "      <td>2</td>\n",
       "      <td>1</td>\n",
       "      <td>False</td>\n",
       "    </tr>\n",
       "    <tr>\n",
       "      <td>1</td>\n",
       "      <td>evansjeffery@yahoo.com</td>\n",
       "      <td>1-788-091-7546</td>\n",
       "      <td>r0jpm7xaeqqa3kr6mzum</td>\n",
       "      <td>219.173.211.202</td>\n",
       "      <td>356 Elizabeth Inlet Suite 120\\nPort Joshuabury...</td>\n",
       "      <td>3</td>\n",
       "      <td>3</td>\n",
       "      <td>7</td>\n",
       "      <td>True</td>\n",
       "    </tr>\n",
       "    <tr>\n",
       "      <td>2</td>\n",
       "      <td>andersonwilliam@yahoo.com</td>\n",
       "      <td>024.420.0375</td>\n",
       "      <td>4m7h5ipl1shyavt6vv2r</td>\n",
       "      <td>67b7:3db8:67e0:3bea:b9d0:90c1:2b60:b9f0</td>\n",
       "      <td>8478 Sean Ridges Apt. 441\\nDavisberg, PR 72250</td>\n",
       "      <td>5</td>\n",
       "      <td>3</td>\n",
       "      <td>2</td>\n",
       "      <td>False</td>\n",
       "    </tr>\n",
       "    <tr>\n",
       "      <td>3</td>\n",
       "      <td>rubenjuarez@yahoo.com</td>\n",
       "      <td>670.664.8168x94985</td>\n",
       "      <td>slovx60t0i558may4ks0</td>\n",
       "      <td>95de:8565:5a66:792c:26e0:6cfb:7d87:11af</td>\n",
       "      <td>7769 Elizabeth Bridge Apt. 343\\nNortonstad, FM...</td>\n",
       "      <td>3</td>\n",
       "      <td>3</td>\n",
       "      <td>1</td>\n",
       "      <td>False</td>\n",
       "    </tr>\n",
       "    <tr>\n",
       "      <td>4</td>\n",
       "      <td>uchen@malone.com</td>\n",
       "      <td>1-981-877-0870</td>\n",
       "      <td>j0pd24k5h8dl2fqu0cz4</td>\n",
       "      <td>196.89.235.192</td>\n",
       "      <td>148 Russell Lodge Apt. 445\\nPort Jenniferside,...</td>\n",
       "      <td>7</td>\n",
       "      <td>7</td>\n",
       "      <td>6</td>\n",
       "      <td>True</td>\n",
       "    </tr>\n",
       "    <tr>\n",
       "      <td>...</td>\n",
       "      <td>...</td>\n",
       "      <td>...</td>\n",
       "      <td>...</td>\n",
       "      <td>...</td>\n",
       "      <td>...</td>\n",
       "      <td>...</td>\n",
       "      <td>...</td>\n",
       "      <td>...</td>\n",
       "      <td>...</td>\n",
       "    </tr>\n",
       "    <tr>\n",
       "      <td>163</td>\n",
       "      <td>mitchellvickie@brewer-jones.com</td>\n",
       "      <td>313-124-3836x3528</td>\n",
       "      <td>ecu7ezz0ue67v3fce1o3</td>\n",
       "      <td>181.90.104.120</td>\n",
       "      <td>829 Ramirez Dam Suite 648\\nGatesview, OR 55669...</td>\n",
       "      <td>3</td>\n",
       "      <td>3</td>\n",
       "      <td>1</td>\n",
       "      <td>True</td>\n",
       "    </tr>\n",
       "    <tr>\n",
       "      <td>164</td>\n",
       "      <td>sbrown@hughes.biz</td>\n",
       "      <td>(250)632-6631x02499</td>\n",
       "      <td>xgv918sclaz40qlp2fee</td>\n",
       "      <td>16.166.2.0</td>\n",
       "      <td>9472 Pacheco Islands Suite 940\\nDrewburgh, AZ ...</td>\n",
       "      <td>6</td>\n",
       "      <td>5</td>\n",
       "      <td>3</td>\n",
       "      <td>True</td>\n",
       "    </tr>\n",
       "    <tr>\n",
       "      <td>165</td>\n",
       "      <td>johnlowery@gmail.com</td>\n",
       "      <td>635.676.0955x524</td>\n",
       "      <td>969zz9zdj8z4gns4sx5p</td>\n",
       "      <td>f82c:811f:8a02:e2d6:79b:fcaa:42de:570b</td>\n",
       "      <td>548 Bryant Inlet\\nVeronicaside, OK 00522</td>\n",
       "      <td>4</td>\n",
       "      <td>4</td>\n",
       "      <td>2</td>\n",
       "      <td>True</td>\n",
       "    </tr>\n",
       "    <tr>\n",
       "      <td>166</td>\n",
       "      <td>ethompson@jackson-sanders.com</td>\n",
       "      <td>962.300.2250</td>\n",
       "      <td>navessqcnmc9csfjn5cj</td>\n",
       "      <td>203.246.172.244</td>\n",
       "      <td>16953 Jennifer Springs\\nKathybury, IL 02095-3215</td>\n",
       "      <td>8</td>\n",
       "      <td>6</td>\n",
       "      <td>6</td>\n",
       "      <td>True</td>\n",
       "    </tr>\n",
       "    <tr>\n",
       "      <td>167</td>\n",
       "      <td>dawn05@tucker-brown.com</td>\n",
       "      <td>(089)703-7360x8848</td>\n",
       "      <td>lu4fgcug8dr0dwbcuui1</td>\n",
       "      <td>132.132.95.33</td>\n",
       "      <td>130 Kimberly Junctions\\nEricmouth, KS 59756-2919</td>\n",
       "      <td>7</td>\n",
       "      <td>5</td>\n",
       "      <td>4</td>\n",
       "      <td>False</td>\n",
       "    </tr>\n",
       "  </tbody>\n",
       "</table>\n",
       "<p>168 rows × 9 columns</p>\n",
       "</div>"
      ],
      "text/plain": [
       "                       customerEmail        customerPhone  \\\n",
       "0             josephhoward@yahoo.com         400-108-5415   \n",
       "1             evansjeffery@yahoo.com       1-788-091-7546   \n",
       "2          andersonwilliam@yahoo.com         024.420.0375   \n",
       "3              rubenjuarez@yahoo.com   670.664.8168x94985   \n",
       "4                   uchen@malone.com       1-981-877-0870   \n",
       "..                               ...                  ...   \n",
       "163  mitchellvickie@brewer-jones.com    313-124-3836x3528   \n",
       "164                sbrown@hughes.biz  (250)632-6631x02499   \n",
       "165             johnlowery@gmail.com     635.676.0955x524   \n",
       "166    ethompson@jackson-sanders.com         962.300.2250   \n",
       "167          dawn05@tucker-brown.com   (089)703-7360x8848   \n",
       "\n",
       "           customerDevice                        customerIPAddress  \\\n",
       "0    yyeiaxpltf82440jnb3v                             8.129.104.40   \n",
       "1    r0jpm7xaeqqa3kr6mzum                          219.173.211.202   \n",
       "2    4m7h5ipl1shyavt6vv2r  67b7:3db8:67e0:3bea:b9d0:90c1:2b60:b9f0   \n",
       "3    slovx60t0i558may4ks0  95de:8565:5a66:792c:26e0:6cfb:7d87:11af   \n",
       "4    j0pd24k5h8dl2fqu0cz4                           196.89.235.192   \n",
       "..                    ...                                      ...   \n",
       "163  ecu7ezz0ue67v3fce1o3                           181.90.104.120   \n",
       "164  xgv918sclaz40qlp2fee                               16.166.2.0   \n",
       "165  969zz9zdj8z4gns4sx5p   f82c:811f:8a02:e2d6:79b:fcaa:42de:570b   \n",
       "166  navessqcnmc9csfjn5cj                          203.246.172.244   \n",
       "167  lu4fgcug8dr0dwbcuui1                            132.132.95.33   \n",
       "\n",
       "                                customerBillingAddress  No_Transactions  \\\n",
       "0              5493 Jones Islands\\nBrownside, CA 51896                2   \n",
       "1    356 Elizabeth Inlet Suite 120\\nPort Joshuabury...                3   \n",
       "2       8478 Sean Ridges Apt. 441\\nDavisberg, PR 72250                5   \n",
       "3    7769 Elizabeth Bridge Apt. 343\\nNortonstad, FM...                3   \n",
       "4    148 Russell Lodge Apt. 445\\nPort Jenniferside,...                7   \n",
       "..                                                 ...              ...   \n",
       "163  829 Ramirez Dam Suite 648\\nGatesview, OR 55669...                3   \n",
       "164  9472 Pacheco Islands Suite 940\\nDrewburgh, AZ ...                6   \n",
       "165           548 Bryant Inlet\\nVeronicaside, OK 00522                4   \n",
       "166   16953 Jennifer Springs\\nKathybury, IL 02095-3215                8   \n",
       "167   130 Kimberly Junctions\\nEricmouth, KS 59756-2919                7   \n",
       "\n",
       "     No_Orders  No_Payments  Fraud  \n",
       "0            2            1  False  \n",
       "1            3            7   True  \n",
       "2            3            2  False  \n",
       "3            3            1  False  \n",
       "4            7            6   True  \n",
       "..         ...          ...    ...  \n",
       "163          3            1   True  \n",
       "164          5            3   True  \n",
       "165          4            2   True  \n",
       "166          6            6   True  \n",
       "167          5            4  False  \n",
       "\n",
       "[168 rows x 9 columns]"
      ]
     },
     "execution_count": 3,
     "metadata": {},
     "output_type": "execute_result"
    }
   ],
   "source": [
    "data=pd.read_csv(\"customer.csv\",index_col=0)\n",
    "\n",
    "data.dropna()\n",
    "\n",
    "\n"
   ]
  },
  {
   "cell_type": "code",
   "execution_count": 4,
   "metadata": {},
   "outputs": [
    {
     "data": {
      "text/plain": [
       "(161, 9)"
      ]
     },
     "execution_count": 4,
     "metadata": {},
     "output_type": "execute_result"
    }
   ],
   "source": [
    "data.drop_duplicates(['customerEmail'],inplace=True)\n",
    "data.shape\n",
    "    "
   ]
  },
  {
   "cell_type": "code",
   "execution_count": 4,
   "metadata": {},
   "outputs": [
    {
     "data": {
      "text/plain": [
       "(161, 9)"
      ]
     },
     "execution_count": 4,
     "metadata": {},
     "output_type": "execute_result"
    }
   ],
   "source": [
    "data.drop_duplicates(['customerPhone','customerDevice','customerIPAddress','customerBillingAddress'],inplace=True)\n",
    "data.shape"
   ]
  },
  {
   "cell_type": "code",
   "execution_count": 5,
   "metadata": {},
   "outputs": [
    {
     "name": "stdout",
     "output_type": "stream",
     "text": [
      "0    0\n",
      "1    1\n",
      "2    0\n",
      "3    0\n",
      "4    1\n",
      "Name: Fraud, dtype: int32\n"
     ]
    }
   ],
   "source": [
    "data.Fraud = data.Fraud.astype(int)\n",
    "print(data['Fraud'].head())"
   ]
  },
  {
   "cell_type": "markdown",
   "metadata": {},
   "source": [
    "## Training the Model Before Applying the Regression Tree"
   ]
  },
  {
   "cell_type": "code",
   "execution_count": 5,
   "metadata": {},
   "outputs": [
    {
     "name": "stdout",
     "output_type": "stream",
     "text": [
      "   No_Transactions  No_Orders  No_Payments  customerEmail_1yf0@jedyz63t  \\\n",
      "0                2          2            1                            0   \n",
      "1                3          3            7                            0   \n",
      "2                5          3            2                            0   \n",
      "\n",
      "   customerEmail_3fooiar@6eph  customerEmail_9es7t@u6n7x  \\\n",
      "0                           0                          0   \n",
      "1                           0                          0   \n",
      "2                           0                          0   \n",
      "\n",
      "   customerEmail_abigail08@yahoo.com  customerEmail_alec27@bell.com  \\\n",
      "0                                  0                              0   \n",
      "1                                  0                              0   \n",
      "2                                  0                              0   \n",
      "\n",
      "   customerEmail_aliciaanthony@martin.com  \\\n",
      "0                                       0   \n",
      "1                                       0   \n",
      "2                                       0   \n",
      "\n",
      "   customerEmail_amywright@wallace-johnson.com  ...  \\\n",
      "0                                            0  ...   \n",
      "1                                            0  ...   \n",
      "2                                            0  ...   \n",
      "\n",
      "   customerBillingAddress_PSC 9769, Box 5820\\nAPO AP 17294  \\\n",
      "0                                                  0         \n",
      "1                                                  0         \n",
      "2                                                  0         \n",
      "\n",
      "   customerBillingAddress_USNS Price\\nFPO AE 14661  \\\n",
      "0                                                0   \n",
      "1                                                0   \n",
      "2                                                0   \n",
      "\n",
      "   customerBillingAddress_USNS Ramos\\nFPO AE 16248  \\\n",
      "0                                                0   \n",
      "1                                                0   \n",
      "2                                                0   \n",
      "\n",
      "   customerBillingAddress_USNV Bennett\\nFPO AE 82607-5790  \\\n",
      "0                                                  0        \n",
      "1                                                  0        \n",
      "2                                                  0        \n",
      "\n",
      "   customerBillingAddress_USS Barr\\nFPO AE 16052-3851  \\\n",
      "0                                                  0    \n",
      "1                                                  0    \n",
      "2                                                  0    \n",
      "\n",
      "   customerBillingAddress_Unit 0375 Box 6645\\nDPO AP 74311  \\\n",
      "0                                                  0         \n",
      "1                                                  0         \n",
      "2                                                  0         \n",
      "\n",
      "   customerBillingAddress_Unit 0643 Box 8346\\nDPO AA 55632-6780  \\\n",
      "0                                                  0              \n",
      "1                                                  0              \n",
      "2                                                  0              \n",
      "\n",
      "   customerBillingAddress_Unit 4843 Box 7401\\nDPO AP 92304-9120  \\\n",
      "0                                                  0              \n",
      "1                                                  0              \n",
      "2                                                  0              \n",
      "\n",
      "   customerBillingAddress_Unit 6251 Box 1562\\nDPO AP 54457-8709  \\\n",
      "0                                                  0              \n",
      "1                                                  0              \n",
      "2                                                  0              \n",
      "\n",
      "   customerBillingAddress_Unit 6719 Box 6044\\nDPO AE 33534  \n",
      "0                                                  0        \n",
      "1                                                  0        \n",
      "2                                                  0        \n",
      "\n",
      "[3 rows x 803 columns]\n"
     ]
    }
   ],
   "source": [
    "y=data['Fraud']\n",
    "feature_sel=data.drop('Fraud',axis=1)\n",
    "features=pd.get_dummies(feature_sel)\n",
    "features=features.fillna(0.0)\n",
    "print(features.head(3))"
   ]
  },
  {
   "cell_type": "markdown",
   "metadata": {},
   "source": [
    "## Training the Model first and applying the Decision Tree in the given data\n"
   ]
  },
  {
   "cell_type": "code",
   "execution_count": 6,
   "metadata": {},
   "outputs": [
    {
     "data": {
      "text/plain": [
       "DecisionTreeClassifier(ccp_alpha=0.0, class_weight=None, criterion='gini',\n",
       "                       max_depth=3, max_features=None, max_leaf_nodes=None,\n",
       "                       min_impurity_decrease=0.0, min_impurity_split=None,\n",
       "                       min_samples_leaf=5, min_samples_split=2,\n",
       "                       min_weight_fraction_leaf=0.0, presort='deprecated',\n",
       "                       random_state=100, splitter='best')"
      ]
     },
     "execution_count": 6,
     "metadata": {},
     "output_type": "execute_result"
    }
   ],
   "source": [
    "X=features\n",
    "from sklearn.model_selection import train_test_split\n",
    "from sklearn.tree import DecisionTreeClassifier\n",
    "from sklearn.metrics import confusion_matrix\n",
    "from sklearn.metrics import accuracy_score\n",
    "from sklearn.metrics import classification_report\n",
    "\n",
    "\n",
    "X_train,X_test,y_train,y_test=train_test_split(X,y,test_size=0.3,random_state=100)\n",
    "## Train Using Gini \n",
    "clf_gini=DecisionTreeClassifier(criterion='gini',random_state=100,max_depth=3,min_samples_leaf=5)\n",
    "clf_gini.fit(X_train,y_train)\n",
    "\n",
    "\n",
    "\n",
    "\n",
    "\n",
    "\n",
    "    \n",
    "\n",
    "    \n"
   ]
  },
  {
   "cell_type": "code",
   "execution_count": 7,
   "metadata": {},
   "outputs": [
    {
     "data": {
      "text/plain": [
       "DecisionTreeClassifier(ccp_alpha=0.0, class_weight=None, criterion='entropy',\n",
       "                       max_depth=3, max_features=None, max_leaf_nodes=None,\n",
       "                       min_impurity_decrease=0.0, min_impurity_split=None,\n",
       "                       min_samples_leaf=5, min_samples_split=2,\n",
       "                       min_weight_fraction_leaf=0.0, presort='deprecated',\n",
       "                       random_state=100, splitter='best')"
      ]
     },
     "execution_count": 7,
     "metadata": {},
     "output_type": "execute_result"
    }
   ],
   "source": [
    "##Using entropy\n",
    "entrop=DecisionTreeClassifier(criterion='entropy',random_state=100,max_depth=3,min_samples_leaf=5)\n",
    "entrop.fit(X_train,y_train)"
   ]
  },
  {
   "cell_type": "code",
   "execution_count": 8,
   "metadata": {},
   "outputs": [
    {
     "name": "stdout",
     "output_type": "stream",
     "text": [
      "Predicted Value= [False  True  True False  True False False False False  True False False\n",
      " False  True False False False False False  True False  True False False\n",
      " False False False  True False False  True  True False False False False\n",
      " False False False False False False False False False False  True  True\n",
      " False]\n",
      "Confusion Matrix=:\n",
      "[[26  4]\n",
      " [11  8]]\n",
      "Accurancy:\n",
      "69.38775510204081\n",
      "Report=:\n",
      "              precision    recall  f1-score   support\n",
      "\n",
      "       False       0.70      0.87      0.78        30\n",
      "        True       0.67      0.42      0.52        19\n",
      "\n",
      "    accuracy                           0.69        49\n",
      "   macro avg       0.68      0.64      0.65        49\n",
      "weighted avg       0.69      0.69      0.68        49\n",
      "\n"
     ]
    }
   ],
   "source": [
    "##Prediction using Gini \n",
    "y_pred=clf_gini.predict(X_test)\n",
    "print(\"Predicted Value=\",y_pred)\n",
    "print(\"Confusion Matrix=:\")\n",
    "print(confusion_matrix(y_test,y_pred))\n",
    "print(\"Accurancy:\")\n",
    "print(accuracy_score(y_test,y_pred)*100)\n",
    "print(\"Report=:\")\n",
    "print(classification_report(y_test,y_pred))"
   ]
  },
  {
   "cell_type": "code",
   "execution_count": 9,
   "metadata": {},
   "outputs": [
    {
     "name": "stdout",
     "output_type": "stream",
     "text": [
      "Predicted Value= [False  True  True False  True False False False False  True False False\n",
      " False  True False False False False False  True False  True False False\n",
      " False False False  True False False  True  True False False False False\n",
      " False False False False False False False False False False  True  True\n",
      " False]\n",
      "Confusion Matrix=:\n",
      "[[26  4]\n",
      " [11  8]]\n",
      "Accurancy:\n",
      "69.38775510204081\n",
      "Report=:\n",
      "              precision    recall  f1-score   support\n",
      "\n",
      "       False       0.70      0.87      0.78        30\n",
      "        True       0.67      0.42      0.52        19\n",
      "\n",
      "    accuracy                           0.69        49\n",
      "   macro avg       0.68      0.64      0.65        49\n",
      "weighted avg       0.69      0.69      0.68        49\n",
      "\n"
     ]
    }
   ],
   "source": [
    "## Prediction Using Entropy\n",
    "y_pred=entrop.predict(X_test)\n",
    "print(\"Predicted Value=\",y_pred)\n",
    "print(\"Confusion Matrix=:\")\n",
    "print(confusion_matrix(y_test,y_pred))\n",
    "print(\"Accurancy:\")\n",
    "print(accuracy_score(y_test,y_pred)*100)\n",
    "print(\"Report=:\")\n",
    "print(classification_report(y_test,y_pred))"
   ]
  },
  {
   "cell_type": "code",
   "execution_count": null,
   "metadata": {},
   "outputs": [],
   "source": []
  }
 ],
 "metadata": {
  "kernelspec": {
   "display_name": "Python 3",
   "language": "python",
   "name": "python3"
  },
  "language_info": {
   "codemirror_mode": {
    "name": "ipython",
    "version": 3
   },
   "file_extension": ".py",
   "mimetype": "text/x-python",
   "name": "python",
   "nbconvert_exporter": "python",
   "pygments_lexer": "ipython3",
   "version": "3.7.4"
  }
 },
 "nbformat": 4,
 "nbformat_minor": 2
}
